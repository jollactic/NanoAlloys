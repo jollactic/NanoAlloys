{
 "cells": [
  {
   "cell_type": "code",
   "execution_count": 3,
   "metadata": {},
   "outputs": [],
   "source": [
    "import sys\n",
    "import tensorflow as tf\n",
    "\n",
    "from ase import Atoms\n",
    "from ase.io import read\n",
    "from ase.visualize import view\n",
    "\n",
    "from dc_model import dc_model\n",
    "from pinn.calculator import PiNN_calc"
   ]
  },
  {
   "cell_type": "code",
   "execution_count": 13,
   "metadata": {},
   "outputs": [
    {
     "name": "stdout",
     "output_type": "stream",
     "text": [
      "INFO:tensorflow:Using default config.\n",
      "INFO:tensorflow:Using config: {'_save_checkpoints_steps': None, '_experimental_max_worker_delay_secs': None, '_train_distribute': None, '_num_worker_replicas': 1, '_global_id_in_cluster': 0, '_num_ps_replicas': 0, '_device_fn': None, '_session_config': allow_soft_placement: true\n",
      "graph_options {\n",
      "  rewrite_options {\n",
      "    meta_optimizer_iterations: ONE\n",
      "  }\n",
      "}\n",
      ", '_log_step_count_steps': 100, '_keep_checkpoint_max': 5, '_session_creation_timeout_secs': 7200, '_save_summary_steps': 100, '_tf_random_seed': None, '_service': None, '_evaluation_master': '', '_save_checkpoints_secs': 600, '_keep_checkpoint_every_n_hours': 10000, '_task_type': 'worker', '_eval_distribute': None, '_experimental_distribute': None, '_protocol': None, '_is_chief': True, '_master': '', '_task_id': 0, '_model_dir': 'model/dc_test', '_cluster_spec': <tensorflow.python.training.server_lib.ClusterSpec object at 0x7f17f83277b8>}\n"
     ]
    }
   ],
   "source": [
    "calc = PiNN_calc(dc_model('model/dc_test'), properties=['dcenter'])\n",
    "\n",
    "#to_read = ''\n",
    "atoms = read('a.xyz')"
   ]
  },
  {
   "cell_type": "code",
   "execution_count": 14,
   "metadata": {},
   "outputs": [
    {
     "name": "stdout",
     "output_type": "stream",
     "text": [
      "INFO:tensorflow:Calling model_fn.\n",
      "INFO:tensorflow:Done calling model_fn.\n",
      "INFO:tensorflow:Graph was finalized.\n",
      "INFO:tensorflow:Restoring parameters from model/dc_test/model.ckpt-100000\n",
      "INFO:tensorflow:Running local_init_op.\n",
      "INFO:tensorflow:Done running local_init_op.\n",
      "[-1.5545087 -1.0998693 -2.7836895 -3.6951141 -1.6014185 -2.6027997\n",
      " -2.631804  -2.674416  -2.6666756 -2.555617  -2.7294807 -2.6213453\n",
      " -2.7002609 -3.3261049 -2.714434  -3.554522  -3.7302248 -2.6191964\n",
      " -1.229117  -2.8300264 -3.455657  -1.2714212 -2.7158623 -3.4735818\n",
      " -3.6895437 -1.6034179 -2.711271  -2.781454  -1.8708799 -3.8351316\n",
      " -3.3118901 -3.6884124 -2.6441736 -1.879678  -2.6445653 -2.788041\n",
      " -1.6025324 -1.3303473 -1.5999792 -2.8155553 -1.1757807 -2.6609426\n",
      " -3.4593349 -3.9234214 -3.902077  -1.2880352 -1.2861481 -3.3216224\n",
      " -1.5588176 -3.735554  -2.5917926 -3.9277484 -2.5650363 -2.6965714\n",
      " -1.211149  -3.8952947 -3.8016136 -3.6611571 -3.43942   -1.612293\n",
      " -1.2476066 -1.2454623 -2.8352175 -3.6859055 -3.4188898 -1.2134486\n",
      " -2.6226892 -1.9166884 -1.5751575 -2.758605  -2.6381059 -1.2824183\n",
      " -1.2922645 -3.3765922 -2.6382546 -3.3827546 -2.30737   -1.1167623\n",
      " -2.7528343 -2.6614735 -2.7529094 -1.8729255 -2.661932  -2.7951186\n",
      " -3.8278108 -3.4979434 -2.6851735 -1.5445529 -1.2426357 -2.6533077\n",
      " -1.1799426 -3.3387527 -1.2972045 -1.6134534 -2.7320428 -3.9326334\n",
      " -2.708971  -1.2485796 -3.468114  -2.7420416 -2.5574644 -2.6402013\n",
      " -3.3871884 -3.4028678 -1.8582997 -3.341645  -2.7843747 -2.6625948\n",
      " -1.9027457 -2.6521037 -1.5578321 -2.6933193 -3.4318435 -1.2475698\n",
      " -2.72585   -2.579405  -2.7648892 -3.9279137 -3.431045  -2.6343894\n",
      " -1.1858099 -1.223132  -3.3799183 -3.773189  -2.6303537 -1.2311571\n",
      " -1.3149886 -1.6142532 -1.6345774 -3.3310838 -2.4339104 -1.2335807\n",
      " -2.6972518 -3.343122  -1.3122209 -2.358369  -3.403391  -3.320798\n",
      " -3.385131  -3.4545085 -3.3931937 -2.7738104 -1.5436714 -2.7056162\n",
      " -3.3996038 -3.4011483 -2.689188  -2.7185915 -3.4976573 -3.4446905\n",
      " -2.684572  -3.3353415 -2.676194  -2.7838984 -2.7729468 -3.6426182\n",
      " -3.8937821 -2.7512136 -3.36862   -3.882514  -1.5930979 -1.2852592\n",
      " -2.7879477 -3.7015038 -3.7820697 -2.5759356 -3.7716827 -1.6443048\n",
      " -2.7944117 -3.3811169 -2.710809  -2.6720426 -3.3889966 -2.7520294\n",
      " -2.748384  -3.4345407 -2.7077422 -2.734076  -2.6200545 -3.7340975\n",
      " -2.4305434 -2.6646147 -3.8748803 -3.385617  -3.7487147 -2.715156\n",
      " -3.909888  -3.3958676 -2.6581311 -2.7500737 -3.355776  -2.5765016\n",
      " -2.301775  -2.6832838 -2.7514048 -3.4266436 -3.4315236 -3.8262722\n",
      " -2.6743765 -2.4859045 -2.6392388 -3.4377518 -3.8715582 -2.7322476\n",
      " -3.4694943 -3.4331198 -1.2124765 -2.6434035 -2.615203  -2.6763663\n",
      " -2.69526   -1.2287571 -2.6945887 -2.605787  -3.769393  -2.5899646\n",
      " -3.4464006 -3.3937163 -1.1994672 -2.7388084 -1.2598889 -3.7068834\n",
      " -2.7174978 -3.6671987 -3.714276  -1.2874577 -2.6722612 -1.8977184\n",
      " -3.7116425 -3.3771923 -3.4433758 -1.2561833 -3.43397   -2.563491\n",
      " -2.4037077 -3.7784662 -1.2692078 -2.566528  -3.4198174 -3.3677073\n",
      " -1.2670877 -3.743792  -3.4634318 -2.6208658 -2.7212577 -3.28721\n",
      " -2.3472154 -2.683465  -2.7018163 -2.7317028 -1.5923    -3.9242449\n",
      " -1.5972815 -1.2306833 -1.2924523 -3.4008913 -2.404177  -1.2639335\n",
      " -3.8278651 -2.7324414 -2.6947474 -1.1666781 -3.8515935 -1.5014938\n",
      " -3.43833   -2.5732107 -3.471004  -2.7901096 -1.2033439 -2.8023782\n",
      " -2.6735134 -3.4191136 -1.6082618 -3.3250275 -1.8923557 -3.3803015\n",
      " -3.66356   -3.6404283 -2.7133963 -3.3025982 -2.7123525 -1.9423712\n",
      " -1.986877  -2.7003922 -2.619938  -3.3219361 -3.397021  -2.6888735\n",
      " -3.4413412 -1.2350824 -3.7296808 -3.3784504 -3.5922756 -1.2458847\n",
      " -1.2298286 -3.345426  -1.4765313 -3.4320784 -3.3524365 -1.305609\n",
      " -2.7688498 -3.406783  -3.4538097 -2.66024   -2.7176545 -2.6834524\n",
      " -1.5894604 -1.6262599 -3.7040577]\n"
     ]
    }
   ],
   "source": [
    "calc.calculate(atoms)\n",
    "print(calc.results['dcenter'])\n",
    "for i in range(len(calc.results['dcenter'])):\n",
    "    atoms[i].charge = calc.results['dcenter'][i]\n",
    "\n",
    "#view(atoms)\n",
    "atoms.write('site_dcenter_pinn.xyz')"
   ]
  },
  {
   "cell_type": "code",
   "execution_count": 16,
   "metadata": {},
   "outputs": [],
   "source": [
    "atoms_pinn = atoms.copy()\n",
    "atoms_dftb = read('a.xyz')"
   ]
  },
  {
   "cell_type": "code",
   "execution_count": 17,
   "metadata": {},
   "outputs": [],
   "source": [
    "diff_dcenter = atoms_pinn.get_initial_charges() - atoms_dftb.get_initial_charges()"
   ]
  },
  {
   "cell_type": "code",
   "execution_count": 18,
   "metadata": {},
   "outputs": [],
   "source": [
    "atoms_diff = atoms_pinn.copy()\n",
    "atoms_diff.set_initial_charges(diff_dcenter)"
   ]
  },
  {
   "cell_type": "code",
   "execution_count": 19,
   "metadata": {},
   "outputs": [],
   "source": [
    "atoms_diff.write('147_NP_diff_dcenter_pinn_dftb.xyz')\n",
    "atoms.write('a_dmap_pinn.xyz')"
   ]
  }
 ],
 "metadata": {
  "kernelspec": {
   "display_name": "Python 3",
   "language": "python",
   "name": "python3"
  },
  "language_info": {
   "codemirror_mode": {
    "name": "ipython",
    "version": 3
   },
   "file_extension": ".py",
   "mimetype": "text/x-python",
   "name": "python",
   "nbconvert_exporter": "python",
   "pygments_lexer": "ipython3",
   "version": "3.5.2"
  }
 },
 "nbformat": 4,
 "nbformat_minor": 2
}
